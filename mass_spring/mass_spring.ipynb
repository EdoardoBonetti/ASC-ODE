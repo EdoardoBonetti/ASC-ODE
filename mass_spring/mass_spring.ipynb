{
 "cells": [
  {
   "cell_type": "code",
   "execution_count": 9,
   "id": "8c22d9bc-c86b-434f-b0f3-0e01290fd183",
   "metadata": {},
   "outputs": [
    {
     "name": "stdout",
     "output_type": "stream",
     "text": [
      "['/home/ebonetti/Desktop/IntoToSC/ASC-ODE/mass_spring', '', '/home/ebonetti/ngsuite/ngsolve-install/lib/python3/dist-packages', '/home/ebonetti/ngsuite/ngsolve-install/bin', '/home/ebonetti/bin/paraview/bin', '/home/ebonetti/.local/bin', '/home/ebonetti/bin', '/usr/local/sbin', '/usr/local/bin', '/usr/sbin', '/usr/bin', '/sbin', '/bin', '/usr/games', '/usr/local/games', '/snap/bin', '/usr/lib/python310.zip', '/usr/lib/python3.10', '/usr/lib/python3.10/lib-dynload', '/home/ebonetti/.local/lib/python3.10/site-packages', '/usr/local/lib/python3.10/dist-packages', '/usr/lib/python3/dist-packages', '/home/ebonetti/Desktop/IntoToSC/ASC-ODE/build/mass_spring', '/home/ebonetti/Desktop/IntoToSC/ASC-ODE/build/mass_spring', '/home/ebonetti/Desktop/IntoToSC/ASC-ODE/build/mass_spring', '/home/ebonetti/Desktop/IntoToSC/ASC-ODE/build/mass_spring', '/home/ebonetti/Desktop/IntoToSC/ASC-ODE/build/mass_spring', '/home/ebonetti/Desktop/IntoToSC/ASC-ODE/build/mass_spring', '/home/ebonetti/Desktop/IntoToSC/ASC-ODE/build/mass_spring', '/home/ebonetti/Desktop/IntoToSC/ASC-ODE/build/mass_spring', '/home/ebonetti/Desktop/IntoToSC/ASC-ODE/build/mass_spring']\n"
     ]
    }
   ],
   "source": [
    "import sys\n",
    "from pathlib import Path\n",
    "\n",
    "sys.path.append(f\"{Path.cwd().parent}/build/mass_spring\")\n",
    "\n",
    "print(sys.path)\n",
    "\n",
    "\n",
    "from mass_spring import *\n",
    "import TomBino\n",
    "\n",
    "from pythreejs import *"
   ]
  },
  {
   "cell_type": "code",
   "execution_count": 10,
   "id": "24f72163-bcb0-45bf-8407-66384ad3fbc4",
   "metadata": {},
   "outputs": [
    {
     "data": {
      "text/plain": [
       "1"
      ]
     },
     "execution_count": 10,
     "metadata": {},
     "output_type": "execute_result"
    }
   ],
   "source": [
    "mss = MassSpringSystem3d()\n",
    "mss.gravity = (0,0,-9.81)\n",
    "\n",
    "mA = mss.Add (Mass(1, (1,0,0)))\n",
    "mB = mss.Add (Mass(2, (2,0,0)))\n",
    "f1 = mss.Add (Fix( (0,0,0)) )\n",
    "mss.Add (Spring(1, 200000, (f1, mA)))\n",
    "mss.Add (Spring(1, 100000, (mA, mB)))"
   ]
  },
  {
   "cell_type": "code",
   "execution_count": 11,
   "id": "c5c8bdfc-9022-4def-bf04-4511756651ea",
   "metadata": {},
   "outputs": [
    {
     "ename": "TypeError",
     "evalue": "Unable to convert function return value to a Python type! The signature was\n\t(arg0: mass_spring.Mass3d) -> Tombino_bla::Vec<3, double>",
     "output_type": "error",
     "traceback": [
      "\u001b[0;31m---------------------------------------------------------------------------\u001b[0m",
      "\u001b[0;31mTypeError\u001b[0m                                 Traceback (most recent call last)",
      "\u001b[0;31mTypeError\u001b[0m: Unregistered type : Tombino_bla::Vec<3, double>",
      "\nThe above exception was the direct cause of the following exception:\n",
      "\u001b[0;31mTypeError\u001b[0m                                 Traceback (most recent call last)",
      "Cell \u001b[0;32mIn [11], line 6\u001b[0m\n\u001b[1;32m      1\u001b[0m masses \u001b[38;5;241m=\u001b[39m []\n\u001b[1;32m      2\u001b[0m \u001b[38;5;28;01mfor\u001b[39;00m m \u001b[38;5;129;01min\u001b[39;00m mss\u001b[38;5;241m.\u001b[39mmasses:\n\u001b[1;32m      3\u001b[0m     masses\u001b[38;5;241m.\u001b[39mappend(\n\u001b[1;32m      4\u001b[0m         Mesh(SphereBufferGeometry(\u001b[38;5;241m0.2\u001b[39m, \u001b[38;5;241m16\u001b[39m, \u001b[38;5;241m16\u001b[39m),\n\u001b[1;32m      5\u001b[0m              MeshStandardMaterial(color\u001b[38;5;241m=\u001b[39m\u001b[38;5;124m'\u001b[39m\u001b[38;5;124mred\u001b[39m\u001b[38;5;124m'\u001b[39m),\n\u001b[0;32m----> 6\u001b[0m              position\u001b[38;5;241m=\u001b[39m(\u001b[43mm\u001b[49m\u001b[38;5;241;43m.\u001b[39;49m\u001b[43mpos\u001b[49m[\u001b[38;5;241m0\u001b[39m], m\u001b[38;5;241m.\u001b[39mpos[\u001b[38;5;241m1\u001b[39m], m\u001b[38;5;241m.\u001b[39mpos[\u001b[38;5;241m2\u001b[39m])))\n\u001b[1;32m      8\u001b[0m fixes \u001b[38;5;241m=\u001b[39m []\n\u001b[1;32m      9\u001b[0m \u001b[38;5;28;01mfor\u001b[39;00m f \u001b[38;5;129;01min\u001b[39;00m mss\u001b[38;5;241m.\u001b[39mfixes:\n",
      "\u001b[0;31mTypeError\u001b[0m: Unable to convert function return value to a Python type! The signature was\n\t(arg0: mass_spring.Mass3d) -> Tombino_bla::Vec<3, double>"
     ]
    }
   ],
   "source": [
    "masses = []\n",
    "for m in mss.masses:\n",
    "    masses.append(\n",
    "        Mesh(SphereBufferGeometry(0.2, 16, 16),\n",
    "             MeshStandardMaterial(color='red'),\n",
    "             position=(m.pos[0], m.pos[1], m.pos[2])))\n",
    "\n",
    "fixes = []\n",
    "for f in mss.fixes:\n",
    "    fixes.append(\n",
    "        Mesh(SphereBufferGeometry(0.2, 32, 16),\n",
    "             MeshStandardMaterial(color='blue'),\n",
    "             position=(f.pos[0], f.pos[1], f.pos[2])))\n",
    "\n",
    "springpos = []\n",
    "for s in mss.springs:\n",
    "    pA = mss[s.connections[0]].pos\n",
    "    pB = mss[s.connections[1]].pos\n",
    "    springpos.append ([ [pA[0], pA[1], pA[2]], [pB[0], pB[1], pB[2]] ])\n",
    "\n",
    "springgeo = LineSegmentsGeometry(positions=springpos)\n",
    "m2 = LineMaterial(linewidth=3, color='cyan')\n",
    "springs = LineSegments2(springgeo, m2)    \n",
    "\n",
    "axes = AxesHelper(1)"
   ]
  },
  {
   "cell_type": "code",
   "execution_count": null,
   "id": "c13e6200-9cab-4df1-8240-f03414ff9b20",
   "metadata": {},
   "outputs": [],
   "source": [
    "view_width = 600\n",
    "view_height = 400\n",
    "\n",
    "camera = PerspectiveCamera( position=[10, 6, 10], aspect=view_width/view_height)\n",
    "key_light = DirectionalLight(position=[0, 10, 10])\n",
    "ambient_light = AmbientLight()\n",
    "\n",
    "scene = Scene(children=[*masses, *fixes, springs, axes, camera, key_light, ambient_light])\n",
    "controller = OrbitControls(controlling=camera)\n",
    "renderer = Renderer(camera=camera, scene=scene, controls=[controller],\n",
    "                    width=view_width, height=view_height)\n",
    "\n",
    "renderer"
   ]
  },
  {
   "cell_type": "code",
   "execution_count": null,
   "id": "1f6bdd5d-d385-4431-a3e7-923ebfb70949",
   "metadata": {},
   "outputs": [],
   "source": [
    "from time import sleep\n",
    "for i in range(10000):\n",
    "    Simulate (mss, 0.02, 100)\n",
    "    for m,mvis in zip(mss.masses, masses):\n",
    "        mvis.position = (m.pos[0], m.pos[1], m.pos[2])\n",
    "\n",
    "    springpos = []\n",
    "    for s in mss.springs:\n",
    "        pA = mss[s.connections[0]].pos\n",
    "        pB = mss[s.connections[1]].pos\n",
    "        springpos.append ([ [pA[0], pA[1], pA[2]], [pB[0], pB[1], pB[2]] ])\n",
    "    springs.geometry = LineSegmentsGeometry(positions=springpos)\n",
    "    sleep(0.01)"
   ]
  },
  {
   "cell_type": "code",
   "execution_count": null,
   "id": "35a71576-da30-469c-b391-698dde7681bf",
   "metadata": {},
   "outputs": [],
   "source": []
  },
  {
   "cell_type": "code",
   "execution_count": null,
   "id": "fd64d66b-f881-4d3a-95d5-302d91f695f3",
   "metadata": {},
   "outputs": [],
   "source": []
  }
 ],
 "metadata": {
  "kernelspec": {
   "display_name": "Python 3 (ipykernel)",
   "language": "python",
   "name": "python3"
  },
  "language_info": {
   "codemirror_mode": {
    "name": "ipython",
    "version": 3
   },
   "file_extension": ".py",
   "mimetype": "text/x-python",
   "name": "python",
   "nbconvert_exporter": "python",
   "pygments_lexer": "ipython3",
   "version": "3.10.12"
  }
 },
 "nbformat": 4,
 "nbformat_minor": 5
}
