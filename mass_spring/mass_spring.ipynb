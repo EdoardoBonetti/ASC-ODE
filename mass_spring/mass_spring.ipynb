{
 "cells": [
  {
   "cell_type": "code",
   "execution_count": 11,
   "id": "8c22d9bc-c86b-434f-b0f3-0e01290fd183",
   "metadata": {},
   "outputs": [
    {
     "name": "stdout",
     "output_type": "stream",
     "text": [
      "['/home/edo/Intro2SC/ASC-ODE/mass_spring', '/usr/lib/python310.zip', '/usr/lib/python3.10', '/usr/lib/python3.10/lib-dynload', '', '/home/edo/.local/lib/python3.10/site-packages', '/usr/local/lib/python3.10/dist-packages', '/usr/lib/python3/dist-packages', '/usr/lib/python3/dist-packages/IPython/extensions', '/home/edo/.ipython', '/home/edo/Intro2SC/ASC-ODE/build/mass_spring', '/home/edo/Intro2SC/ASC-ODE/build/mass_spring', '/home/edo/Intro2SC/ASC-ODE/build/mass_spring']\n"
     ]
    }
   ],
   "source": [
    "import sys\n",
    "from pathlib import Path\n",
    "\n",
    "#sys.path.append(f\"{Path.cwd().parent}/build/mass_spring\")\n",
    "sys.path.append(\"/home/edo/Intro2SC/ASC-ODE/build/mass_spring\")\n",
    "\n",
    "print(sys.path)\n",
    "\n",
    "\n",
    "from mass_spring import *\n",
    "import TomBino.bla\n",
    "\n",
    "from pythreejs import *"
   ]
  },
  {
   "cell_type": "code",
   "execution_count": 12,
   "id": "24f72163-bcb0-45bf-8407-66384ad3fbc4",
   "metadata": {},
   "outputs": [
    {
     "data": {
      "text/plain": [
       "1"
      ]
     },
     "execution_count": 12,
     "metadata": {},
     "output_type": "execute_result"
    }
   ],
   "source": [
    "mss = MassSpringSystem3d()\n",
    "mss.gravity = (0,0,-9.81)\n",
    "\n",
    "mA = mss.Add (Mass(1, (1,0,0)))\n",
    "mB = mss.Add (Mass(2, (2,0,0)))\n",
    "f1 = mss.Add (Fix( (0,0,0)) )\n",
    "mss.Add (Spring(1, 200000, (f1, mA)))\n",
    "mss.Add (Spring(1, 100000, (mA, mB)))"
   ]
  },
  {
   "cell_type": "code",
   "execution_count": 13,
   "id": "c5c8bdfc-9022-4def-bf04-4511756651ea",
   "metadata": {},
   "outputs": [],
   "source": [
    "masses = []\n",
    "for m in mss.masses:\n",
    "    masses.append(\n",
    "        Mesh(SphereBufferGeometry(0.2, 16, 16),\n",
    "             MeshStandardMaterial(color='red'),\n",
    "             position=(m.pos[0], m.pos[1], m.pos[2])))\n",
    "\n",
    "fixes = []\n",
    "for f in mss.fixes:\n",
    "    fixes.append(\n",
    "        Mesh(SphereBufferGeometry(0.2, 32, 16),\n",
    "             MeshStandardMaterial(color='blue'),\n",
    "             position=(f.pos[0], f.pos[1], f.pos[2])))\n",
    "\n",
    "springpos = []\n",
    "for s in mss.springs:\n",
    "    pA = mss[s.connections[0]].pos\n",
    "    pB = mss[s.connections[1]].pos\n",
    "    springpos.append ([ [pA[0], pA[1], pA[2]], [pB[0], pB[1], pB[2]] ])\n",
    "\n",
    "springgeo = LineSegmentsGeometry(positions=springpos)\n",
    "m2 = LineMaterial(linewidth=3, color='cyan')\n",
    "springs = LineSegments2(springgeo, m2)    \n",
    "\n",
    "axes = AxesHelper(1)"
   ]
  },
  {
   "cell_type": "code",
   "execution_count": 14,
   "id": "c13e6200-9cab-4df1-8240-f03414ff9b20",
   "metadata": {},
   "outputs": [
    {
     "data": {
      "application/vnd.jupyter.widget-view+json": {
       "model_id": "0b5224e9a8e0467a911b59a99c0f5bae",
       "version_major": 2,
       "version_minor": 0
      },
      "text/plain": [
       "Renderer(camera=PerspectiveCamera(aspect=1.5, position=(10.0, 6.0, 10.0), projectionMatrix=(1.0, 0.0, 0.0, 0.0…"
      ]
     },
     "execution_count": 14,
     "metadata": {},
     "output_type": "execute_result"
    }
   ],
   "source": [
    "view_width = 600\n",
    "view_height = 400\n",
    "\n",
    "camera = PerspectiveCamera( position=[10, 6, 10], aspect=view_width/view_height)\n",
    "key_light = DirectionalLight(position=[0, 10, 10])\n",
    "ambient_light = AmbientLight()\n",
    "\n",
    "scene = Scene(children=[*masses, *fixes, springs, axes, camera, key_light, ambient_light])\n",
    "controller = OrbitControls(controlling=camera)\n",
    "renderer = Renderer(camera=camera, scene=scene, controls=[controller],\n",
    "                    width=view_width, height=view_height)\n",
    "\n",
    "renderer"
   ]
  },
  {
   "cell_type": "code",
   "execution_count": 15,
   "id": "1f6bdd5d-d385-4431-a3e7-923ebfb70949",
   "metadata": {},
   "outputs": [
    {
     "ename": "ValueError",
     "evalue": "Newton did not converge",
     "output_type": "error",
     "traceback": [
      "\u001b[0;31m---------------------------------------------------------------------------\u001b[0m",
      "\u001b[0;31mValueError\u001b[0m                                Traceback (most recent call last)",
      "\u001b[0;32m/tmp/ipykernel_32776/2061400192.py\u001b[0m in \u001b[0;36m<module>\u001b[0;34m\u001b[0m\n\u001b[1;32m      1\u001b[0m \u001b[0;32mfrom\u001b[0m \u001b[0mtime\u001b[0m \u001b[0;32mimport\u001b[0m \u001b[0msleep\u001b[0m\u001b[0;34m\u001b[0m\u001b[0;34m\u001b[0m\u001b[0m\n\u001b[1;32m      2\u001b[0m \u001b[0;32mfor\u001b[0m \u001b[0mi\u001b[0m \u001b[0;32min\u001b[0m \u001b[0mrange\u001b[0m\u001b[0;34m(\u001b[0m\u001b[0;36m10000\u001b[0m\u001b[0;34m)\u001b[0m\u001b[0;34m:\u001b[0m\u001b[0;34m\u001b[0m\u001b[0;34m\u001b[0m\u001b[0m\n\u001b[0;32m----> 3\u001b[0;31m     \u001b[0mSimulate\u001b[0m \u001b[0;34m(\u001b[0m\u001b[0mmss\u001b[0m\u001b[0;34m,\u001b[0m \u001b[0;36m0.02\u001b[0m\u001b[0;34m,\u001b[0m \u001b[0;36m100\u001b[0m\u001b[0;34m)\u001b[0m\u001b[0;34m\u001b[0m\u001b[0;34m\u001b[0m\u001b[0m\n\u001b[0m\u001b[1;32m      4\u001b[0m     \u001b[0;32mfor\u001b[0m \u001b[0mm\u001b[0m\u001b[0;34m,\u001b[0m\u001b[0mmvis\u001b[0m \u001b[0;32min\u001b[0m \u001b[0mzip\u001b[0m\u001b[0;34m(\u001b[0m\u001b[0mmss\u001b[0m\u001b[0;34m.\u001b[0m\u001b[0mmasses\u001b[0m\u001b[0;34m,\u001b[0m \u001b[0mmasses\u001b[0m\u001b[0;34m)\u001b[0m\u001b[0;34m:\u001b[0m\u001b[0;34m\u001b[0m\u001b[0;34m\u001b[0m\u001b[0m\n\u001b[1;32m      5\u001b[0m         \u001b[0mmvis\u001b[0m\u001b[0;34m.\u001b[0m\u001b[0mposition\u001b[0m \u001b[0;34m=\u001b[0m \u001b[0;34m(\u001b[0m\u001b[0mm\u001b[0m\u001b[0;34m.\u001b[0m\u001b[0mpos\u001b[0m\u001b[0;34m[\u001b[0m\u001b[0;36m0\u001b[0m\u001b[0;34m]\u001b[0m\u001b[0;34m,\u001b[0m \u001b[0mm\u001b[0m\u001b[0;34m.\u001b[0m\u001b[0mpos\u001b[0m\u001b[0;34m[\u001b[0m\u001b[0;36m1\u001b[0m\u001b[0;34m]\u001b[0m\u001b[0;34m,\u001b[0m \u001b[0mm\u001b[0m\u001b[0;34m.\u001b[0m\u001b[0mpos\u001b[0m\u001b[0;34m[\u001b[0m\u001b[0;36m2\u001b[0m\u001b[0;34m]\u001b[0m\u001b[0;34m)\u001b[0m\u001b[0;34m\u001b[0m\u001b[0;34m\u001b[0m\u001b[0m\n",
      "\u001b[0;31mValueError\u001b[0m: Newton did not converge"
     ]
    }
   ],
   "source": [
    "from time import sleep\n",
    "for i in range(10000):\n",
    "    Simulate (mss, 0.02, 100)\n",
    "    for m,mvis in zip(mss.masses, masses):\n",
    "        mvis.position = (m.pos[0], m.pos[1], m.pos[2])\n",
    "\n",
    "    springpos = []\n",
    "    for s in mss.springs:\n",
    "        pA = mss[s.connections[0]].pos\n",
    "        pB = mss[s.connections[1]].pos\n",
    "        springpos.append ([ [pA[0], pA[1], pA[2]], [pB[0], pB[1], pB[2]] ])\n",
    "    springs.geometry = LineSegmentsGeometry(positions=springpos)\n",
    "    sleep(0.01)\n"
   ]
  },
  {
   "cell_type": "code",
   "execution_count": null,
   "id": "35a71576-da30-469c-b391-698dde7681bf",
   "metadata": {},
   "outputs": [],
   "source": []
  },
  {
   "cell_type": "code",
   "execution_count": null,
   "id": "fd64d66b-f881-4d3a-95d5-302d91f695f3",
   "metadata": {},
   "outputs": [],
   "source": []
  }
 ],
 "metadata": {
  "kernelspec": {
   "display_name": "Python 3 (ipykernel)",
   "language": "python",
   "name": "python3"
  },
  "language_info": {
   "codemirror_mode": {
    "name": "ipython",
    "version": 3
   },
   "file_extension": ".py",
   "mimetype": "text/x-python",
   "name": "python",
   "nbconvert_exporter": "python",
   "pygments_lexer": "ipython3",
   "version": "3.10.12"
  }
 },
 "nbformat": 4,
 "nbformat_minor": 5
}
